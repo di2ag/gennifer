{
 "cells": [
  {
   "cell_type": "markdown",
   "source": [
    "# **Learning a signed graph from GSD Dataset**\n",
    "\n",
    "In this notebook, we will learn a signed graph from GSD dataset, taken from [1] and also studied in \n",
    "the paper. We start with importing necessary packages. "
   ],
   "metadata": {}
  },
  {
   "cell_type": "code",
   "execution_count": 8,
   "source": [
    "import os\r\n",
    "\r\n",
    "import pandas as pd # to load read GSD dataset\r\n",
    "import numpy as np\r\n",
    "\r\n",
    "import project_path # for this notebook to be able to import from pysrc folder\r\n",
    "from pysrc.graphlearning import learn_signed_graph\r\n",
    "from pysrc.evaluation import auc # to evaluate inference with auprc/auroc\r\n",
    "\r\n",
    "# Project folder\r\n",
    "parent_dir = os.path.abspath(os.path.join(os.pardir)) "
   ],
   "outputs": [],
   "metadata": {}
  },
  {
   "cell_type": "markdown",
   "source": [
    "Next, we will read gene expression data and reference network."
   ],
   "metadata": {}
  },
  {
   "cell_type": "code",
   "execution_count": 2,
   "source": [
    "# Data files\r\n",
    "expression_file = os.path.join(parent_dir, \"data/inputs/GSD/ExpressionData.csv\")\r\n",
    "ref_net_file = os.path.join(parent_dir, \"data/inputs/GSD/refNetwork.csv\")\r\n",
    "\r\n",
    "# Read data files\r\n",
    "expression_df = pd.read_csv(expression_file, index_col=0) \r\n",
    "ref_net_df = pd.read_csv(ref_net_file)"
   ],
   "outputs": [],
   "metadata": {}
  },
  {
   "cell_type": "markdown",
   "source": [
    "Now, we infer a signed graph from the expression data, which is a $p\\times n$ dimensional matrix with\r\n",
    "p is the number of genes and n is the number of cells. For this, we need to determine two hyperparameters:\r\n",
    "$\\alpha_1$ and $\\alpha_2$. These parameters control the density of postive and negative part of the \r\n",
    "learned signed graph. Thus, instead of determining the hyperparameters, we can set the desired density\r\n",
    "and then search for $\\alpha_1$ and $\\alpha_2$ values that give the desired densities. In current\r\n",
    "implementation we use binary search to find $\\alpha_1$ and $\\alpha_2$ to obtain densities close to \r\n",
    "desired densities. Binary search can sometimes fail to find the values of $\\alpha_1$ and $\\alpha_2$\r\n",
    "that give close approximation for the desired density. In such cases, one can manually choose \r\n",
    "hyperparameters that will give the desired densities. As a future work, we intend to find an exact \r\n",
    "relation between hyperparameters and densities of the positive and negative parts as done in some\r\n",
    "recent works in graph signal processing literature. \r\n",
    "\r\n",
    "For this example, we will try to infer a signed graph with correlation kernel and we will set both\r\n",
    "desired positive and negative edge densities to 0.45, which is approximately the value we found for\r\n",
    "positive and negative edge densities using surrogate data approach described in the paper."
   ],
   "metadata": {}
  },
  {
   "cell_type": "code",
   "execution_count": 21,
   "source": [
    "G = learn_signed_graph(expression_df.to_numpy(), pos_density=0.45, neg_density=0.45, \r\n",
    "                                assoc=\"correlation\", gene_names=np.array(expression_df.index))"
   ],
   "outputs": [],
   "metadata": {}
  },
  {
   "cell_type": "markdown",
   "source": [
    "G is a dataframe with each row indicating an edge between two genes. Each edge is also associated \r\n",
    "with a weight, which is either positive or negative depending on the sign of the edge. We evaluate the\r\n",
    "inferred the graph using signed AUPRC:"
   ],
   "metadata": {}
  },
  {
   "cell_type": "code",
   "execution_count": 22,
   "source": [
    "auprc, auroc, auprc_ratio, auroc_ratio = auc.signed(ref_net_df, G, \"directed\")\r\n",
    "print(auprc)\r\n",
    "print(auroc)"
   ],
   "outputs": [
    {
     "output_type": "stream",
     "name": "stdout",
     "text": [
      "{'+': 0.37632317608807087, '-': 0.16571191138881608}\n",
      "{'+': 0.7545796475586822, '-': 0.7256319811875367}\n"
     ]
    }
   ],
   "metadata": {}
  },
  {
   "cell_type": "markdown",
   "source": [
    "### **References**\r\n",
    "\r\n",
    "[1] Pratapa, Aditya, et al. \"Benchmarking algorithms for gene regulatory network inference from \r\n",
    "single-cell transcriptomic data.\" Nature methods 17.2 (2020): 147-154."
   ],
   "metadata": {}
  }
 ],
 "metadata": {
  "orig_nbformat": 4,
  "language_info": {
   "name": "python",
   "version": "3.8.8",
   "mimetype": "text/x-python",
   "codemirror_mode": {
    "name": "ipython",
    "version": 3
   },
   "pygments_lexer": "ipython3",
   "nbconvert_exporter": "python",
   "file_extension": ".py"
  },
  "kernelspec": {
   "name": "python3",
   "display_name": "Python 3.8.8 64-bit ('scsgl': conda)"
  },
  "interpreter": {
   "hash": "fa6e5db0ad6794800a186766cfacd0049ecf1ad827c7c7ae7aa1d02f411d14bb"
  }
 },
 "nbformat": 4,
 "nbformat_minor": 2
}